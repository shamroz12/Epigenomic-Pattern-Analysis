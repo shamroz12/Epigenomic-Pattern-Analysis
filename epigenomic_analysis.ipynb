{
 "cells": [
  {
   "cell_type": "code",
   "metadata": {},
   "source": [
    "import pandas as pd\n",
    "import matplotlib.pyplot as plt\n",
    "diff_expr = pd.read_csv('../results/differential_expression.csv', index_col=0)\n",
    "plt.figure(figsize=(10,6))\n",
    "plt.hist(diff_expr['adjusted_p_value'], bins=50, color='skyblue', edgecolor='black')\n",
    "plt.title('Distribution of Adjusted p-values')\n",
    "plt.xlabel('Adjusted p-value')\n",
    "plt.ylabel('Frequency')\n",
    "plt.show()"
   ]
  }
 ],
 "metadata": {
  "kernelspec": {
   "display_name": "Python 3",
   "language": "python",
   "name": "python3"
  },
  "language_info": {
   "name": "python",
   "version": "3.10"
  }
 },
 "nbformat": 4,
 "nbformat_minor": 5
}